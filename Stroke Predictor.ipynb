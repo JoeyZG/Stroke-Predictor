{
 "cells": [
  {
   "cell_type": "markdown",
   "metadata": {
    "cell_id": "00000-8b64d766-9dce-47a0-b95c-8e8b5cf12a9f",
    "deepnote_cell_type": "text-cell-h1",
    "is_collapsed": false,
    "tags": []
   },
   "source": [
    "# Stroke Predictor Using Various Factors"
   ]
  },
  {
   "cell_type": "code",
   "execution_count": 1,
   "metadata": {
    "cell_id": "00001-708c6a66-9e0c-477a-9123-c375a658dd79",
    "deepnote_cell_type": "code",
    "deepnote_to_be_reexecuted": false,
    "execution_millis": 2685,
    "execution_start": 1646077457525,
    "source_hash": "ca328606",
    "tags": []
   },
   "outputs": [],
   "source": [
    "import numpy as np\n",
    "import pandas as pd\n",
    "import matplotlib.pyplot as plt\n",
    "from sklearn.model_selection import train_test_split\n",
    "import seaborn as sns\n",
    "import sklearn\n",
    "from sklearn import metrics\n",
    "from sklearn.model_selection import train_test_split, GridSearchCV, KFold, cross_val_score\n",
    "from sklearn.preprocessing import PolynomialFeatures\n",
    "from sklearn.linear_model import Ridge, Lasso, ElasticNet, LogisticRegression\n",
    "from sklearn.metrics import confusion_matrix"
   ]
  },
  {
   "cell_type": "markdown",
   "metadata": {
    "cell_id": "00002-25f54883-aa83-4717-a198-1eba51c4b3f0",
    "deepnote_cell_type": "text-cell-h2",
    "is_collapsed": false,
    "tags": []
   },
   "source": [
    "## Data Import and Cleaning"
   ]
  },
  {
   "cell_type": "code",
   "execution_count": 2,
   "metadata": {
    "cell_id": "00001-24392281-1f8a-4a85-8eaa-ba1817fad67e",
    "deepnote_cell_type": "code",
    "deepnote_to_be_reexecuted": false,
    "execution_millis": 40,
    "execution_start": 1646077460213,
    "source_hash": "1f6ccc32",
    "tags": []
   },
   "outputs": [],
   "source": [
    "#loading dataa\n",
    "patient_data = pd.read_csv('train_datalabel.csv')\n",
    "test = pd.read_csv('test_data.csv')\n",
    "submission = pd.read_csv('sample_submission.csv')\n",
    "\n",
    "\n",
    "# creating a validation set\n",
    "patient_train, patient_validation = train_test_split(patient_data, \n",
    "                                             test_size = .25, \n",
    "                                             random_state = 0)"
   ]
  },
  {
   "cell_type": "code",
   "execution_count": 3,
   "metadata": {
    "cell_id": "00002-29f0cf5d-7e17-4b83-8f50-908b0f2149f1",
    "deepnote_cell_type": "code",
    "deepnote_output_heights": [
     226
    ],
    "deepnote_to_be_reexecuted": false,
    "execution_millis": 11,
    "execution_start": 1646077460256,
    "source_hash": "1de0c89c",
    "tags": []
   },
   "outputs": [],
   "source": [
    "#Check if there exists N/A values in the dataframes here. \n",
    "#Think about how you could handing missing values.\n",
    "#Modify the dataframe here as you see fit.\n",
    "\n",
    "# we could replace the values with the means\n",
    "def replace_nan(df):\n",
    "    df = one_hot_encode(df)\n",
    "    no_nan_df = without_nan(df)\n",
    "    vals = {column: np.average(no_nan_df[column]) for column in no_nan_df}\n",
    "    df = df.drop('id', axis = 1)\n",
    "    return df.fillna(value = vals)\n",
    "\n",
    "\n",
    "#this code removes all rows that contain N/A values\n",
    "def without_nan(df):\n",
    "    not_nan = df.notna()\n",
    "    rows_no_nan = not_nan.all(axis=1)\n",
    "    return df[rows_no_nan]"
   ]
  },
  {
   "cell_type": "code",
   "execution_count": 4,
   "metadata": {
    "cell_id": "00005-81ca46bc-4d00-4fb9-b30a-20d7c8e922b6",
    "deepnote_cell_type": "code",
    "deepnote_to_be_reexecuted": false,
    "execution_millis": 1,
    "execution_start": 1646077460274,
    "source_hash": "6eaf8d96",
    "tags": []
   },
   "outputs": [],
   "source": [
    "def standardize(dataframe_column):\n",
    "    \"\"\"\n",
    "    This function converts a column in a dataframe into standard units\"\n",
    "    dataframe_column(array): the column as an array\n",
    "    \n",
    "    returns an array of standardized numbers\n",
    "    \"\"\"\n",
    "    return (dataframe_column - np.mean(dataframe_column)) / np.std(dataframe_column)"
   ]
  },
  {
   "cell_type": "markdown",
   "metadata": {
    "cell_id": "00005-2a20ff38-5aab-4557-a368-d29cc42dea2c",
    "deepnote_cell_type": "text-cell-h2",
    "is_collapsed": false,
    "tags": []
   },
   "source": [
    "## One Hot Encoding"
   ]
  },
  {
   "cell_type": "code",
   "execution_count": 5,
   "metadata": {
    "cell_id": "00003-54c57a78-6afa-40ae-b471-1e350f6c06ce",
    "deepnote_cell_type": "code",
    "deepnote_output_heights": [
     21.1875
    ],
    "deepnote_to_be_reexecuted": false,
    "execution_millis": 0,
    "execution_start": 1646077460276,
    "source_hash": "1113f810",
    "tags": []
   },
   "outputs": [],
   "source": [
    "#Since there are categorical variables here, do can apply one hot encoding to categorical columns!\n",
    "#You can also use other techniques too if you wish.\n",
    "#REMEMBER TO APPLY THE SAME TRANSFORMATION TO BOTH TRAINING AND TESTDATA.\n",
    "\n",
    "def one_hot_encode(df):\n",
    "    df = pd.get_dummies(df, columns=[\"gender\", \"ever_married\", \"work_type\", \"Residence_type\", \"smoking_status\"])\n",
    "    return df\n"
   ]
  },
  {
   "cell_type": "markdown",
   "metadata": {
    "cell_id": "00007-1720ca63-ae91-406f-997f-5fe56e80f8e8",
    "deepnote_cell_type": "text-cell-h2",
    "is_collapsed": false,
    "tags": []
   },
   "source": [
    "## MODEL 1: Data Visualization"
   ]
  },
  {
   "cell_type": "markdown",
   "metadata": {
    "cell_id": "00008-baff747a-bfd7-4695-b33f-86cacd7f9f9f",
    "deepnote_cell_type": "markdown",
    "tags": []
   },
   "source": [
    "This section is just for playing around with visualizations and seeing what potential correlations there might be.\n",
    "\n",
    "My first idea is to divide our train set into two categories: those who have experienced a stroke and those who haven't. Then, we find the mean age, hypertension, etc. for both categories and see if there are any notable differences."
   ]
  },
  {
   "cell_type": "code",
   "execution_count": 6,
   "metadata": {
    "cell_id": "00010-0f342243-50ae-4738-abe4-b66f268b27d5",
    "deepnote_cell_type": "code",
    "deepnote_to_be_reexecuted": false,
    "execution_millis": 1,
    "execution_start": 1646077460298,
    "source_hash": "cda5849c",
    "tags": []
   },
   "outputs": [],
   "source": [
    "def compare_vars(dataframe, variable):\n",
    "    '''Takes a cleaned train dataframe and separates it into 2 datasets.\n",
    "        One dataset for stroke patients, one dataset for non-stroke patients.\n",
    "        It will then find the mean for the variable passed in for both datasets\n",
    "        dataframe = df\n",
    "        variable = str'''\n",
    "    has_stroke = dataframe[dataframe['stroke'] == 1]\n",
    "    no_stroke = dataframe[dataframe['stroke'] == 0]\n",
    "    stroke_mean = np.mean(has_stroke[variable])\n",
    "    no_stroke_mean = np.mean(no_stroke[variable])\n",
    "    print('Stroke mean' + '('+variable+'): ' + str(stroke_mean))\n",
    "    print('No mean' + '('+variable+'):'+ str(no_stroke_mean))"
   ]
  },
  {
   "cell_type": "code",
   "execution_count": 7,
   "metadata": {
    "cell_id": "00013-5e550cd4-f5c1-433f-83e8-f4f099b659b0",
    "deepnote_cell_type": "code",
    "deepnote_to_be_reexecuted": false,
    "execution_millis": 0,
    "execution_start": 1646077460300,
    "source_hash": "77152e0f",
    "tags": []
   },
   "outputs": [],
   "source": [
    "# TO CHRIS: I will try to put the differences between each variable here\n",
    "def compute_diffs(dataframe, variable):\n",
    "    '''Takes a cleaned train dataframe and separates it into 2 datasets.\n",
    "        One dataset for stroke patients, one dataset for non-stroke patients.\n",
    "        It will then find the mean for the variable passed in for both datasets\n",
    "        and print the difference between each mean. a positive value indicates higher values\n",
    "        for stroke people\n",
    "        dataframe = df\n",
    "        variable = str'''\n",
    "    has_stroke = dataframe[dataframe['stroke'] == 1]\n",
    "    no_stroke = dataframe[dataframe['stroke'] == 0]\n",
    "    stroke_mean = np.mean(has_stroke[variable])\n",
    "    no_stroke_mean = np.mean(no_stroke[variable])\n",
    "    print(variable + ' diff: ' + str(stroke_mean - no_stroke_mean))"
   ]
  },
  {
   "cell_type": "code",
   "execution_count": 8,
   "metadata": {
    "cell_id": "00014-2bc86a2c-d42b-4b0d-9c66-06cc48cabc27",
    "deepnote_cell_type": "code",
    "deepnote_to_be_reexecuted": false,
    "execution_millis": 1,
    "execution_start": 1646077460300,
    "source_hash": "5b996251",
    "tags": []
   },
   "outputs": [
    {
     "name": "stderr",
     "output_type": "stream",
     "text": [
      "/var/folders/gh/k7rgm7qs3zl2lw8bn_ydlg_40000gq/T/ipykernel_48410/2474148539.py:3: SettingWithCopyWarning: \n",
      "A value is trying to be set on a copy of a slice from a DataFrame.\n",
      "Try using .loc[row_indexer,col_indexer] = value instead\n",
      "\n",
      "See the caveats in the documentation: https://pandas.pydata.org/pandas-docs/stable/user_guide/indexing.html#returning-a-view-versus-a-copy\n",
      "  patient_train[i] = standardize(patient_train[i])\n",
      "/var/folders/gh/k7rgm7qs3zl2lw8bn_ydlg_40000gq/T/ipykernel_48410/2474148539.py:4: SettingWithCopyWarning: \n",
      "A value is trying to be set on a copy of a slice from a DataFrame.\n",
      "Try using .loc[row_indexer,col_indexer] = value instead\n",
      "\n",
      "See the caveats in the documentation: https://pandas.pydata.org/pandas-docs/stable/user_guide/indexing.html#returning-a-view-versus-a-copy\n",
      "  patient_validation[i] = standardize(patient_validation[i])\n",
      "/var/folders/gh/k7rgm7qs3zl2lw8bn_ydlg_40000gq/T/ipykernel_48410/2474148539.py:6: SettingWithCopyWarning: \n",
      "A value is trying to be set on a copy of a slice from a DataFrame.\n",
      "Try using .loc[row_indexer,col_indexer] = value instead\n",
      "\n",
      "See the caveats in the documentation: https://pandas.pydata.org/pandas-docs/stable/user_guide/indexing.html#returning-a-view-versus-a-copy\n",
      "  patient_train['age'] = patient_train['age']\n",
      "/var/folders/gh/k7rgm7qs3zl2lw8bn_ydlg_40000gq/T/ipykernel_48410/2474148539.py:7: SettingWithCopyWarning: \n",
      "A value is trying to be set on a copy of a slice from a DataFrame.\n",
      "Try using .loc[row_indexer,col_indexer] = value instead\n",
      "\n",
      "See the caveats in the documentation: https://pandas.pydata.org/pandas-docs/stable/user_guide/indexing.html#returning-a-view-versus-a-copy\n",
      "  patient_validation['age'] = patient_validation['age']\n"
     ]
    }
   ],
   "source": [
    "factors_to_standardize = ['age', 'avg_glucose_level', 'bmi']\n",
    "for i in factors_to_standardize:\n",
    "    patient_train[i] = standardize(patient_train[i])\n",
    "    patient_validation[i] = standardize(patient_validation[i])\n",
    "\n",
    "patient_train['age'] = patient_train['age']\n",
    "patient_validation['age'] = patient_validation['age']"
   ]
  },
  {
   "cell_type": "code",
   "execution_count": 9,
   "metadata": {
    "cell_id": "00017-010e034a-8974-4f4b-a116-215b70824297",
    "deepnote_cell_type": "code",
    "deepnote_to_be_reexecuted": false,
    "execution_millis": 4,
    "execution_start": 1646077460306,
    "source_hash": "e9cfc040",
    "tags": []
   },
   "outputs": [],
   "source": [
    "heatmap_corr = pd.get_dummies(patient_data, columns=['ever_married'])"
   ]
  },
  {
   "cell_type": "code",
   "execution_count": 10,
   "metadata": {
    "cell_id": "00014-08f1326f-6870-4669-b832-0b7378240669",
    "deepnote_cell_type": "code",
    "deepnote_output_heights": [
     21.1875,
     335
    ],
    "deepnote_to_be_reexecuted": false,
    "execution_millis": 1393,
    "execution_start": 1646077460317,
    "source_hash": "ecc33db7",
    "tags": []
   },
   "outputs": [
    {
     "data": {
      "text/plain": [
       "<AxesSubplot:>"
      ]
     },
     "execution_count": 10,
     "metadata": {},
     "output_type": "execute_result"
    },
    {
     "data": {
      "image/png": "[encoded data removed]",
      "text/plain": [
       "<Figure size 432x288 with 2 Axes>"
      ]
     },
     "metadata": {
      "needs_background": "light"
     },
     "output_type": "display_data"
    }
   ],
   "source": [
    "sns.heatmap(data = heatmap_corr.corr(), annot= True)"
   ]
  },
  {
   "cell_type": "code",
   "execution_count": 11,
   "metadata": {
    "cell_id": "00014-e807b3b6-56c8-4e3e-8e69-a92d4d5216cd",
    "deepnote_cell_type": "code",
    "deepnote_output_heights": [
     21.1875
    ],
    "deepnote_to_be_reexecuted": false,
    "execution_millis": 5515008745,
    "execution_start": 1646077461682,
    "source_hash": "e563ae77",
    "tags": []
   },
   "outputs": [
    {
     "data": {
      "text/plain": [
       "'\\nThese are the findings we made from observing our data\\n\\nhigher for stroke people:\\nage\\nhypertension\\nheart disease\\nglucose level\\nbmi\\nmarried\\nself-employed\\nrural living situation\\nformerly smoked / smokes\\nmen are more likely\\n'"
      ]
     },
     "execution_count": 11,
     "metadata": {},
     "output_type": "execute_result"
    }
   ],
   "source": [
    "\"\"\"\n",
    "These are the findings we made from observing our data\n",
    "\n",
    "higher for stroke people:\n",
    "age\n",
    "hypertension\n",
    "heart disease\n",
    "glucose level\n",
    "bmi\n",
    "married\n",
    "self-employed\n",
    "rural living situation\n",
    "formerly smoked / smokes\n",
    "men are more likely\n",
    "\"\"\""
   ]
  },
  {
   "cell_type": "code",
   "execution_count": 12,
   "metadata": {
    "cell_id": "00023-8226f4a0-7a8a-4cc7-b53b-d089534da4f0",
    "deepnote_cell_type": "code",
    "deepnote_to_be_reexecuted": false,
    "execution_millis": 51,
    "execution_start": 1646077461686,
    "source_hash": "3b834cd4",
    "tags": []
   },
   "outputs": [
    {
     "data": {
      "text/html": [
       "<div>\n",
       "<style scoped>\n",
       "    .dataframe tbody tr th:only-of-type {\n",
       "        vertical-align: middle;\n",
       "    }\n",
       "\n",
       "    .dataframe tbody tr th {\n",
       "        vertical-align: top;\n",
       "    }\n",
       "\n",
       "    .dataframe thead th {\n",
       "        text-align: right;\n",
       "    }\n",
       "</style>\n",
       "<table border=\"1\" class=\"dataframe\">\n",
       "  <thead>\n",
       "    <tr style=\"text-align: right;\">\n",
       "      <th></th>\n",
       "      <th>id</th>\n",
       "      <th>gender</th>\n",
       "      <th>age</th>\n",
       "      <th>hypertension</th>\n",
       "      <th>heart_disease</th>\n",
       "      <th>ever_married</th>\n",
       "      <th>work_type</th>\n",
       "      <th>Residence_type</th>\n",
       "      <th>avg_glucose_level</th>\n",
       "      <th>bmi</th>\n",
       "      <th>smoking_status</th>\n",
       "      <th>stroke</th>\n",
       "    </tr>\n",
       "  </thead>\n",
       "  <tbody>\n",
       "    <tr>\n",
       "      <th>1733</th>\n",
       "      <td>19550</td>\n",
       "      <td>Male</td>\n",
       "      <td>-0.184119</td>\n",
       "      <td>0</td>\n",
       "      <td>0</td>\n",
       "      <td>Yes</td>\n",
       "      <td>Private</td>\n",
       "      <td>Urban</td>\n",
       "      <td>2.471439</td>\n",
       "      <td>1.314926</td>\n",
       "      <td>never smoked</td>\n",
       "      <td>0</td>\n",
       "    </tr>\n",
       "    <tr>\n",
       "      <th>1861</th>\n",
       "      <td>29694</td>\n",
       "      <td>Female</td>\n",
       "      <td>1.091434</td>\n",
       "      <td>0</td>\n",
       "      <td>0</td>\n",
       "      <td>Yes</td>\n",
       "      <td>Private</td>\n",
       "      <td>Rural</td>\n",
       "      <td>-0.255074</td>\n",
       "      <td>-0.924436</td>\n",
       "      <td>smokes</td>\n",
       "      <td>0</td>\n",
       "    </tr>\n",
       "    <tr>\n",
       "      <th>4055</th>\n",
       "      <td>71957</td>\n",
       "      <td>Female</td>\n",
       "      <td>-0.360057</td>\n",
       "      <td>0</td>\n",
       "      <td>0</td>\n",
       "      <td>Yes</td>\n",
       "      <td>Private</td>\n",
       "      <td>Rural</td>\n",
       "      <td>-1.071312</td>\n",
       "      <td>1.377131</td>\n",
       "      <td>smokes</td>\n",
       "      <td>0</td>\n",
       "    </tr>\n",
       "    <tr>\n",
       "      <th>2668</th>\n",
       "      <td>5236</td>\n",
       "      <td>Female</td>\n",
       "      <td>0.255727</td>\n",
       "      <td>0</td>\n",
       "      <td>0</td>\n",
       "      <td>Yes</td>\n",
       "      <td>Private</td>\n",
       "      <td>Rural</td>\n",
       "      <td>-0.742500</td>\n",
       "      <td>0.506268</td>\n",
       "      <td>never smoked</td>\n",
       "      <td>0</td>\n",
       "    </tr>\n",
       "    <tr>\n",
       "      <th>3903</th>\n",
       "      <td>60562</td>\n",
       "      <td>Female</td>\n",
       "      <td>-0.975842</td>\n",
       "      <td>0</td>\n",
       "      <td>0</td>\n",
       "      <td>No</td>\n",
       "      <td>Private</td>\n",
       "      <td>Rural</td>\n",
       "      <td>-1.151510</td>\n",
       "      <td>-0.887114</td>\n",
       "      <td>never smoked</td>\n",
       "      <td>0</td>\n",
       "    </tr>\n",
       "  </tbody>\n",
       "</table>\n",
       "</div>"
      ],
      "text/plain": [
       "         id  gender       age  hypertension  heart_disease ever_married  \\\n",
       "1733  19550    Male -0.184119             0              0          Yes   \n",
       "1861  29694  Female  1.091434             0              0          Yes   \n",
       "4055  71957  Female -0.360057             0              0          Yes   \n",
       "2668   5236  Female  0.255727             0              0          Yes   \n",
       "3903  60562  Female -0.975842             0              0           No   \n",
       "\n",
       "     work_type Residence_type  avg_glucose_level       bmi smoking_status  \\\n",
       "1733   Private          Urban           2.471439  1.314926   never smoked   \n",
       "1861   Private          Rural          -0.255074 -0.924436         smokes   \n",
       "4055   Private          Rural          -1.071312  1.377131         smokes   \n",
       "2668   Private          Rural          -0.742500  0.506268   never smoked   \n",
       "3903   Private          Rural          -1.151510 -0.887114   never smoked   \n",
       "\n",
       "      stroke  \n",
       "1733       0  \n",
       "1861       0  \n",
       "4055       0  \n",
       "2668       0  \n",
       "3903       0  "
      ]
     },
     "execution_count": 12,
     "metadata": {},
     "output_type": "execute_result"
    }
   ],
   "source": [
    "patient_train.head()"
   ]
  },
  {
   "cell_type": "markdown",
   "metadata": {
    "cell_id": "00025-2a24f03a-76d5-41dc-a3ec-54abcce69bd4",
    "deepnote_cell_type": "text-cell-h2",
    "is_collapsed": false,
    "tags": []
   },
   "source": [
    "## Bootstrap"
   ]
  },
  {
   "cell_type": "code",
   "execution_count": 13,
   "metadata": {
    "cell_id": "00026-4acbecd4-d66e-4a37-829c-adbb36366762",
    "deepnote_cell_type": "code",
    "deepnote_output_heights": [
     21.1875
    ],
    "deepnote_to_be_reexecuted": false,
    "execution_millis": 96,
    "execution_start": 1646077461719,
    "source_hash": "a4af54b3",
    "tags": []
   },
   "outputs": [
    {
     "data": {
      "text/html": [
       "<div>\n",
       "<style scoped>\n",
       "    .dataframe tbody tr th:only-of-type {\n",
       "        vertical-align: middle;\n",
       "    }\n",
       "\n",
       "    .dataframe tbody tr th {\n",
       "        vertical-align: top;\n",
       "    }\n",
       "\n",
       "    .dataframe thead th {\n",
       "        text-align: right;\n",
       "    }\n",
       "</style>\n",
       "<table border=\"1\" class=\"dataframe\">\n",
       "  <thead>\n",
       "    <tr style=\"text-align: right;\">\n",
       "      <th></th>\n",
       "      <th>age</th>\n",
       "      <th>hypertension</th>\n",
       "      <th>heart_disease</th>\n",
       "      <th>avg_glucose_level</th>\n",
       "      <th>bmi</th>\n",
       "      <th>stroke</th>\n",
       "      <th>gender_Female</th>\n",
       "      <th>gender_Male</th>\n",
       "      <th>gender_Other</th>\n",
       "      <th>ever_married_No</th>\n",
       "      <th>...</th>\n",
       "      <th>work_type_Never_worked</th>\n",
       "      <th>work_type_Private</th>\n",
       "      <th>work_type_Self-employed</th>\n",
       "      <th>work_type_children</th>\n",
       "      <th>Residence_type_Rural</th>\n",
       "      <th>Residence_type_Urban</th>\n",
       "      <th>smoking_status_Unknown</th>\n",
       "      <th>smoking_status_formerly smoked</th>\n",
       "      <th>smoking_status_never smoked</th>\n",
       "      <th>smoking_status_smokes</th>\n",
       "    </tr>\n",
       "  </thead>\n",
       "  <tbody>\n",
       "    <tr>\n",
       "      <th>105</th>\n",
       "      <td>76.0</td>\n",
       "      <td>0</td>\n",
       "      <td>0</td>\n",
       "      <td>140.10</td>\n",
       "      <td>29.9</td>\n",
       "      <td>1</td>\n",
       "      <td>0</td>\n",
       "      <td>1</td>\n",
       "      <td>0</td>\n",
       "      <td>0</td>\n",
       "      <td>...</td>\n",
       "      <td>0</td>\n",
       "      <td>1</td>\n",
       "      <td>0</td>\n",
       "      <td>0</td>\n",
       "      <td>0</td>\n",
       "      <td>1</td>\n",
       "      <td>0</td>\n",
       "      <td>1</td>\n",
       "      <td>0</td>\n",
       "      <td>0</td>\n",
       "    </tr>\n",
       "    <tr>\n",
       "      <th>94</th>\n",
       "      <td>58.0</td>\n",
       "      <td>0</td>\n",
       "      <td>0</td>\n",
       "      <td>59.86</td>\n",
       "      <td>28.0</td>\n",
       "      <td>1</td>\n",
       "      <td>1</td>\n",
       "      <td>0</td>\n",
       "      <td>0</td>\n",
       "      <td>0</td>\n",
       "      <td>...</td>\n",
       "      <td>0</td>\n",
       "      <td>1</td>\n",
       "      <td>0</td>\n",
       "      <td>0</td>\n",
       "      <td>1</td>\n",
       "      <td>0</td>\n",
       "      <td>0</td>\n",
       "      <td>1</td>\n",
       "      <td>0</td>\n",
       "      <td>0</td>\n",
       "    </tr>\n",
       "    <tr>\n",
       "      <th>188</th>\n",
       "      <td>68.0</td>\n",
       "      <td>0</td>\n",
       "      <td>0</td>\n",
       "      <td>211.06</td>\n",
       "      <td>39.3</td>\n",
       "      <td>1</td>\n",
       "      <td>1</td>\n",
       "      <td>0</td>\n",
       "      <td>0</td>\n",
       "      <td>0</td>\n",
       "      <td>...</td>\n",
       "      <td>0</td>\n",
       "      <td>1</td>\n",
       "      <td>0</td>\n",
       "      <td>0</td>\n",
       "      <td>1</td>\n",
       "      <td>0</td>\n",
       "      <td>1</td>\n",
       "      <td>0</td>\n",
       "      <td>0</td>\n",
       "      <td>0</td>\n",
       "    </tr>\n",
       "    <tr>\n",
       "      <th>77</th>\n",
       "      <td>81.0</td>\n",
       "      <td>0</td>\n",
       "      <td>1</td>\n",
       "      <td>78.70</td>\n",
       "      <td>19.4</td>\n",
       "      <td>1</td>\n",
       "      <td>1</td>\n",
       "      <td>0</td>\n",
       "      <td>0</td>\n",
       "      <td>0</td>\n",
       "      <td>...</td>\n",
       "      <td>0</td>\n",
       "      <td>0</td>\n",
       "      <td>1</td>\n",
       "      <td>0</td>\n",
       "      <td>1</td>\n",
       "      <td>0</td>\n",
       "      <td>1</td>\n",
       "      <td>0</td>\n",
       "      <td>0</td>\n",
       "      <td>0</td>\n",
       "    </tr>\n",
       "    <tr>\n",
       "      <th>169</th>\n",
       "      <td>79.0</td>\n",
       "      <td>0</td>\n",
       "      <td>1</td>\n",
       "      <td>205.33</td>\n",
       "      <td>31.0</td>\n",
       "      <td>1</td>\n",
       "      <td>1</td>\n",
       "      <td>0</td>\n",
       "      <td>0</td>\n",
       "      <td>1</td>\n",
       "      <td>...</td>\n",
       "      <td>0</td>\n",
       "      <td>1</td>\n",
       "      <td>0</td>\n",
       "      <td>0</td>\n",
       "      <td>0</td>\n",
       "      <td>1</td>\n",
       "      <td>0</td>\n",
       "      <td>0</td>\n",
       "      <td>0</td>\n",
       "      <td>1</td>\n",
       "    </tr>\n",
       "    <tr>\n",
       "      <th>...</th>\n",
       "      <td>...</td>\n",
       "      <td>...</td>\n",
       "      <td>...</td>\n",
       "      <td>...</td>\n",
       "      <td>...</td>\n",
       "      <td>...</td>\n",
       "      <td>...</td>\n",
       "      <td>...</td>\n",
       "      <td>...</td>\n",
       "      <td>...</td>\n",
       "      <td>...</td>\n",
       "      <td>...</td>\n",
       "      <td>...</td>\n",
       "      <td>...</td>\n",
       "      <td>...</td>\n",
       "      <td>...</td>\n",
       "      <td>...</td>\n",
       "      <td>...</td>\n",
       "      <td>...</td>\n",
       "      <td>...</td>\n",
       "      <td>...</td>\n",
       "    </tr>\n",
       "    <tr>\n",
       "      <th>30</th>\n",
       "      <td>78.0</td>\n",
       "      <td>0</td>\n",
       "      <td>0</td>\n",
       "      <td>78.03</td>\n",
       "      <td>23.9</td>\n",
       "      <td>1</td>\n",
       "      <td>0</td>\n",
       "      <td>1</td>\n",
       "      <td>0</td>\n",
       "      <td>0</td>\n",
       "      <td>...</td>\n",
       "      <td>0</td>\n",
       "      <td>1</td>\n",
       "      <td>0</td>\n",
       "      <td>0</td>\n",
       "      <td>1</td>\n",
       "      <td>0</td>\n",
       "      <td>0</td>\n",
       "      <td>1</td>\n",
       "      <td>0</td>\n",
       "      <td>0</td>\n",
       "    </tr>\n",
       "    <tr>\n",
       "      <th>39</th>\n",
       "      <td>79.0</td>\n",
       "      <td>0</td>\n",
       "      <td>1</td>\n",
       "      <td>127.29</td>\n",
       "      <td>27.7</td>\n",
       "      <td>1</td>\n",
       "      <td>1</td>\n",
       "      <td>0</td>\n",
       "      <td>0</td>\n",
       "      <td>0</td>\n",
       "      <td>...</td>\n",
       "      <td>0</td>\n",
       "      <td>1</td>\n",
       "      <td>0</td>\n",
       "      <td>0</td>\n",
       "      <td>1</td>\n",
       "      <td>0</td>\n",
       "      <td>0</td>\n",
       "      <td>0</td>\n",
       "      <td>1</td>\n",
       "      <td>0</td>\n",
       "    </tr>\n",
       "    <tr>\n",
       "      <th>196</th>\n",
       "      <td>14.0</td>\n",
       "      <td>0</td>\n",
       "      <td>0</td>\n",
       "      <td>57.93</td>\n",
       "      <td>30.9</td>\n",
       "      <td>1</td>\n",
       "      <td>1</td>\n",
       "      <td>0</td>\n",
       "      <td>0</td>\n",
       "      <td>1</td>\n",
       "      <td>...</td>\n",
       "      <td>0</td>\n",
       "      <td>0</td>\n",
       "      <td>0</td>\n",
       "      <td>1</td>\n",
       "      <td>1</td>\n",
       "      <td>0</td>\n",
       "      <td>1</td>\n",
       "      <td>0</td>\n",
       "      <td>0</td>\n",
       "      <td>0</td>\n",
       "    </tr>\n",
       "    <tr>\n",
       "      <th>121</th>\n",
       "      <td>57.0</td>\n",
       "      <td>0</td>\n",
       "      <td>0</td>\n",
       "      <td>221.89</td>\n",
       "      <td>37.3</td>\n",
       "      <td>1</td>\n",
       "      <td>1</td>\n",
       "      <td>0</td>\n",
       "      <td>0</td>\n",
       "      <td>0</td>\n",
       "      <td>...</td>\n",
       "      <td>0</td>\n",
       "      <td>1</td>\n",
       "      <td>0</td>\n",
       "      <td>0</td>\n",
       "      <td>0</td>\n",
       "      <td>1</td>\n",
       "      <td>0</td>\n",
       "      <td>0</td>\n",
       "      <td>0</td>\n",
       "      <td>1</td>\n",
       "    </tr>\n",
       "    <tr>\n",
       "      <th>121</th>\n",
       "      <td>57.0</td>\n",
       "      <td>0</td>\n",
       "      <td>0</td>\n",
       "      <td>221.89</td>\n",
       "      <td>37.3</td>\n",
       "      <td>1</td>\n",
       "      <td>1</td>\n",
       "      <td>0</td>\n",
       "      <td>0</td>\n",
       "      <td>0</td>\n",
       "      <td>...</td>\n",
       "      <td>0</td>\n",
       "      <td>1</td>\n",
       "      <td>0</td>\n",
       "      <td>0</td>\n",
       "      <td>0</td>\n",
       "      <td>1</td>\n",
       "      <td>0</td>\n",
       "      <td>0</td>\n",
       "      <td>0</td>\n",
       "      <td>1</td>\n",
       "    </tr>\n",
       "  </tbody>\n",
       "</table>\n",
       "<p>200 rows × 22 columns</p>\n",
       "</div>"
      ],
      "text/plain": [
       "      age  hypertension  heart_disease  avg_glucose_level   bmi  stroke  \\\n",
       "105  76.0             0              0             140.10  29.9       1   \n",
       "94   58.0             0              0              59.86  28.0       1   \n",
       "188  68.0             0              0             211.06  39.3       1   \n",
       "77   81.0             0              1              78.70  19.4       1   \n",
       "169  79.0             0              1             205.33  31.0       1   \n",
       "..    ...           ...            ...                ...   ...     ...   \n",
       "30   78.0             0              0              78.03  23.9       1   \n",
       "39   79.0             0              1             127.29  27.7       1   \n",
       "196  14.0             0              0              57.93  30.9       1   \n",
       "121  57.0             0              0             221.89  37.3       1   \n",
       "121  57.0             0              0             221.89  37.3       1   \n",
       "\n",
       "     gender_Female  gender_Male  gender_Other  ever_married_No  ...  \\\n",
       "105              0            1             0                0  ...   \n",
       "94               1            0             0                0  ...   \n",
       "188              1            0             0                0  ...   \n",
       "77               1            0             0                0  ...   \n",
       "169              1            0             0                1  ...   \n",
       "..             ...          ...           ...              ...  ...   \n",
       "30               0            1             0                0  ...   \n",
       "39               1            0             0                0  ...   \n",
       "196              1            0             0                1  ...   \n",
       "121              1            0             0                0  ...   \n",
       "121              1            0             0                0  ...   \n",
       "\n",
       "     work_type_Never_worked  work_type_Private  work_type_Self-employed  \\\n",
       "105                       0                  1                        0   \n",
       "94                        0                  1                        0   \n",
       "188                       0                  1                        0   \n",
       "77                        0                  0                        1   \n",
       "169                       0                  1                        0   \n",
       "..                      ...                ...                      ...   \n",
       "30                        0                  1                        0   \n",
       "39                        0                  1                        0   \n",
       "196                       0                  0                        0   \n",
       "121                       0                  1                        0   \n",
       "121                       0                  1                        0   \n",
       "\n",
       "     work_type_children  Residence_type_Rural  Residence_type_Urban  \\\n",
       "105                   0                     0                     1   \n",
       "94                    0                     1                     0   \n",
       "188                   0                     1                     0   \n",
       "77                    0                     1                     0   \n",
       "169                   0                     0                     1   \n",
       "..                  ...                   ...                   ...   \n",
       "30                    0                     1                     0   \n",
       "39                    0                     1                     0   \n",
       "196                   1                     1                     0   \n",
       "121                   0                     0                     1   \n",
       "121                   0                     0                     1   \n",
       "\n",
       "     smoking_status_Unknown  smoking_status_formerly smoked  \\\n",
       "105                       0                               1   \n",
       "94                        0                               1   \n",
       "188                       1                               0   \n",
       "77                        1                               0   \n",
       "169                       0                               0   \n",
       "..                      ...                             ...   \n",
       "30                        0                               1   \n",
       "39                        0                               0   \n",
       "196                       1                               0   \n",
       "121                       0                               0   \n",
       "121                       0                               0   \n",
       "\n",
       "     smoking_status_never smoked  smoking_status_smokes  \n",
       "105                            0                      0  \n",
       "94                             0                      0  \n",
       "188                            0                      0  \n",
       "77                             0                      0  \n",
       "169                            0                      1  \n",
       "..                           ...                    ...  \n",
       "30                             0                      0  \n",
       "39                             1                      0  \n",
       "196                            0                      0  \n",
       "121                            0                      1  \n",
       "121                            0                      1  \n",
       "\n",
       "[200 rows x 22 columns]"
      ]
     },
     "execution_count": 13,
     "metadata": {},
     "output_type": "execute_result"
    }
   ],
   "source": [
    "#making a copy of patient_data\n",
    "initial_boot = patient_data.copy()\n",
    "initial_boot = replace_nan(initial_boot)\n",
    "#filtering for just positive stroke == 1\n",
    "just_strokes = initial_boot[initial_boot['stroke'] == 1]\n",
    "\n",
    "bootstrap_1 = just_strokes.sample(200, replace = True)\n",
    "bootstrap_1"
   ]
  },
  {
   "cell_type": "code",
   "execution_count": 14,
   "metadata": {
    "cell_id": "00022-ed5bda46-4bd3-4a6a-b0c0-9b5803377af5",
    "deepnote_cell_type": "code",
    "deepnote_to_be_reexecuted": false,
    "execution_millis": 81,
    "execution_start": 1646077461800,
    "source_hash": "381dc195",
    "tags": []
   },
   "outputs": [
    {
     "data": {
      "text/html": [
       "<div>\n",
       "<style scoped>\n",
       "    .dataframe tbody tr th:only-of-type {\n",
       "        vertical-align: middle;\n",
       "    }\n",
       "\n",
       "    .dataframe tbody tr th {\n",
       "        vertical-align: top;\n",
       "    }\n",
       "\n",
       "    .dataframe thead th {\n",
       "        text-align: right;\n",
       "    }\n",
       "</style>\n",
       "<table border=\"1\" class=\"dataframe\">\n",
       "  <thead>\n",
       "    <tr style=\"text-align: right;\">\n",
       "      <th></th>\n",
       "      <th>id</th>\n",
       "      <th>gender</th>\n",
       "      <th>age</th>\n",
       "      <th>hypertension</th>\n",
       "      <th>heart_disease</th>\n",
       "      <th>ever_married</th>\n",
       "      <th>work_type</th>\n",
       "      <th>Residence_type</th>\n",
       "      <th>avg_glucose_level</th>\n",
       "      <th>bmi</th>\n",
       "      <th>smoking_status</th>\n",
       "      <th>stroke</th>\n",
       "    </tr>\n",
       "  </thead>\n",
       "  <tbody>\n",
       "    <tr>\n",
       "      <th>0</th>\n",
       "      <td>9046</td>\n",
       "      <td>Male</td>\n",
       "      <td>67.0</td>\n",
       "      <td>0</td>\n",
       "      <td>1</td>\n",
       "      <td>Yes</td>\n",
       "      <td>Private</td>\n",
       "      <td>Urban</td>\n",
       "      <td>228.69</td>\n",
       "      <td>36.6</td>\n",
       "      <td>formerly smoked</td>\n",
       "      <td>1</td>\n",
       "    </tr>\n",
       "    <tr>\n",
       "      <th>1</th>\n",
       "      <td>51676</td>\n",
       "      <td>Female</td>\n",
       "      <td>61.0</td>\n",
       "      <td>0</td>\n",
       "      <td>0</td>\n",
       "      <td>Yes</td>\n",
       "      <td>Self-employed</td>\n",
       "      <td>Rural</td>\n",
       "      <td>202.21</td>\n",
       "      <td>NaN</td>\n",
       "      <td>never smoked</td>\n",
       "      <td>1</td>\n",
       "    </tr>\n",
       "    <tr>\n",
       "      <th>2</th>\n",
       "      <td>31112</td>\n",
       "      <td>Male</td>\n",
       "      <td>80.0</td>\n",
       "      <td>0</td>\n",
       "      <td>1</td>\n",
       "      <td>Yes</td>\n",
       "      <td>Private</td>\n",
       "      <td>Rural</td>\n",
       "      <td>105.92</td>\n",
       "      <td>32.5</td>\n",
       "      <td>never smoked</td>\n",
       "      <td>1</td>\n",
       "    </tr>\n",
       "    <tr>\n",
       "      <th>3</th>\n",
       "      <td>1665</td>\n",
       "      <td>Female</td>\n",
       "      <td>79.0</td>\n",
       "      <td>1</td>\n",
       "      <td>0</td>\n",
       "      <td>Yes</td>\n",
       "      <td>Self-employed</td>\n",
       "      <td>Rural</td>\n",
       "      <td>174.12</td>\n",
       "      <td>24.0</td>\n",
       "      <td>never smoked</td>\n",
       "      <td>1</td>\n",
       "    </tr>\n",
       "    <tr>\n",
       "      <th>4</th>\n",
       "      <td>56669</td>\n",
       "      <td>Male</td>\n",
       "      <td>81.0</td>\n",
       "      <td>0</td>\n",
       "      <td>0</td>\n",
       "      <td>Yes</td>\n",
       "      <td>Private</td>\n",
       "      <td>Urban</td>\n",
       "      <td>186.21</td>\n",
       "      <td>29.0</td>\n",
       "      <td>formerly smoked</td>\n",
       "      <td>1</td>\n",
       "    </tr>\n",
       "    <tr>\n",
       "      <th>...</th>\n",
       "      <td>...</td>\n",
       "      <td>...</td>\n",
       "      <td>...</td>\n",
       "      <td>...</td>\n",
       "      <td>...</td>\n",
       "      <td>...</td>\n",
       "      <td>...</td>\n",
       "      <td>...</td>\n",
       "      <td>...</td>\n",
       "      <td>...</td>\n",
       "      <td>...</td>\n",
       "      <td>...</td>\n",
       "    </tr>\n",
       "    <tr>\n",
       "      <th>4083</th>\n",
       "      <td>22127</td>\n",
       "      <td>Female</td>\n",
       "      <td>18.0</td>\n",
       "      <td>0</td>\n",
       "      <td>0</td>\n",
       "      <td>No</td>\n",
       "      <td>Private</td>\n",
       "      <td>Urban</td>\n",
       "      <td>82.85</td>\n",
       "      <td>46.9</td>\n",
       "      <td>Unknown</td>\n",
       "      <td>0</td>\n",
       "    </tr>\n",
       "    <tr>\n",
       "      <th>4084</th>\n",
       "      <td>14180</td>\n",
       "      <td>Female</td>\n",
       "      <td>13.0</td>\n",
       "      <td>0</td>\n",
       "      <td>0</td>\n",
       "      <td>No</td>\n",
       "      <td>children</td>\n",
       "      <td>Rural</td>\n",
       "      <td>103.08</td>\n",
       "      <td>18.6</td>\n",
       "      <td>Unknown</td>\n",
       "      <td>0</td>\n",
       "    </tr>\n",
       "    <tr>\n",
       "      <th>4085</th>\n",
       "      <td>18234</td>\n",
       "      <td>Female</td>\n",
       "      <td>80.0</td>\n",
       "      <td>1</td>\n",
       "      <td>0</td>\n",
       "      <td>Yes</td>\n",
       "      <td>Private</td>\n",
       "      <td>Urban</td>\n",
       "      <td>83.75</td>\n",
       "      <td>NaN</td>\n",
       "      <td>never smoked</td>\n",
       "      <td>0</td>\n",
       "    </tr>\n",
       "    <tr>\n",
       "      <th>4086</th>\n",
       "      <td>44873</td>\n",
       "      <td>Female</td>\n",
       "      <td>81.0</td>\n",
       "      <td>0</td>\n",
       "      <td>0</td>\n",
       "      <td>Yes</td>\n",
       "      <td>Self-employed</td>\n",
       "      <td>Urban</td>\n",
       "      <td>125.20</td>\n",
       "      <td>40.0</td>\n",
       "      <td>never smoked</td>\n",
       "      <td>0</td>\n",
       "    </tr>\n",
       "    <tr>\n",
       "      <th>4087</th>\n",
       "      <td>37544</td>\n",
       "      <td>Male</td>\n",
       "      <td>51.0</td>\n",
       "      <td>0</td>\n",
       "      <td>0</td>\n",
       "      <td>Yes</td>\n",
       "      <td>Private</td>\n",
       "      <td>Rural</td>\n",
       "      <td>166.29</td>\n",
       "      <td>25.6</td>\n",
       "      <td>formerly smoked</td>\n",
       "      <td>0</td>\n",
       "    </tr>\n",
       "  </tbody>\n",
       "</table>\n",
       "<p>4088 rows × 12 columns</p>\n",
       "</div>"
      ],
      "text/plain": [
       "         id  gender   age  hypertension  heart_disease ever_married  \\\n",
       "0      9046    Male  67.0             0              1          Yes   \n",
       "1     51676  Female  61.0             0              0          Yes   \n",
       "2     31112    Male  80.0             0              1          Yes   \n",
       "3      1665  Female  79.0             1              0          Yes   \n",
       "4     56669    Male  81.0             0              0          Yes   \n",
       "...     ...     ...   ...           ...            ...          ...   \n",
       "4083  22127  Female  18.0             0              0           No   \n",
       "4084  14180  Female  13.0             0              0           No   \n",
       "4085  18234  Female  80.0             1              0          Yes   \n",
       "4086  44873  Female  81.0             0              0          Yes   \n",
       "4087  37544    Male  51.0             0              0          Yes   \n",
       "\n",
       "          work_type Residence_type  avg_glucose_level   bmi   smoking_status  \\\n",
       "0           Private          Urban             228.69  36.6  formerly smoked   \n",
       "1     Self-employed          Rural             202.21   NaN     never smoked   \n",
       "2           Private          Rural             105.92  32.5     never smoked   \n",
       "3     Self-employed          Rural             174.12  24.0     never smoked   \n",
       "4           Private          Urban             186.21  29.0  formerly smoked   \n",
       "...             ...            ...                ...   ...              ...   \n",
       "4083        Private          Urban              82.85  46.9          Unknown   \n",
       "4084       children          Rural             103.08  18.6          Unknown   \n",
       "4085        Private          Urban              83.75   NaN     never smoked   \n",
       "4086  Self-employed          Urban             125.20  40.0     never smoked   \n",
       "4087        Private          Rural             166.29  25.6  formerly smoked   \n",
       "\n",
       "      stroke  \n",
       "0          1  \n",
       "1          1  \n",
       "2          1  \n",
       "3          1  \n",
       "4          1  \n",
       "...      ...  \n",
       "4083       0  \n",
       "4084       0  \n",
       "4085       0  \n",
       "4086       0  \n",
       "4087       0  \n",
       "\n",
       "[4088 rows x 12 columns]"
      ]
     },
     "execution_count": 14,
     "metadata": {},
     "output_type": "execute_result"
    }
   ],
   "source": [
    "patient_data"
   ]
  },
  {
   "cell_type": "code",
   "execution_count": 15,
   "metadata": {
    "cell_id": "00022-5016d83c-cd4a-4265-a146-8b7473e16603",
    "deepnote_cell_type": "code",
    "deepnote_output_heights": [
     21.1875
    ],
    "deepnote_to_be_reexecuted": false,
    "execution_millis": 20,
    "execution_start": 1646077461881,
    "source_hash": "d49af0a9",
    "tags": []
   },
   "outputs": [
    {
     "data": {
      "text/plain": [
       "0.00611545988258317"
      ]
     },
     "execution_count": 15,
     "metadata": {},
     "output_type": "execute_result"
    }
   ],
   "source": [
    "data = replace_nan(patient_data)\n",
    "np.average(data['ever_married_No'] * data['stroke'])"
   ]
  },
  {
   "cell_type": "code",
   "execution_count": 16,
   "metadata": {
    "cell_id": "00027-5bff1a76-7086-4f47-8b87-45efc6391303",
    "deepnote_cell_type": "code",
    "deepnote_to_be_reexecuted": false,
    "execution_millis": 13,
    "execution_start": 1646077461904,
    "source_hash": "8f4bc4b",
    "tags": []
   },
   "outputs": [],
   "source": [
    "def bootstrap(dataframe):\n",
    "    '''Takes a cleaned dataframe of just stroke == 1 and bootstraps it\n",
    "    '''\n",
    "    df = dataframe.sample(200, replace = True)\n",
    "    return df"
   ]
  },
  {
   "cell_type": "code",
   "execution_count": 17,
   "metadata": {
    "cell_id": "00028-dda00555-2ec0-4062-a40e-48c740d8c8f3",
    "deepnote_cell_type": "code",
    "deepnote_output_heights": [
     21.1875
    ],
    "deepnote_to_be_reexecuted": false,
    "execution_millis": 42,
    "execution_start": 1646077461917,
    "source_hash": "b6226943",
    "tags": []
   },
   "outputs": [
    {
     "data": {
      "text/plain": [
       "4000"
      ]
     },
     "execution_count": 17,
     "metadata": {},
     "output_type": "execute_result"
    }
   ],
   "source": [
    "for i in np.arange(19):\n",
    "    new_boot = bootstrap(just_strokes)\n",
    "    bootstrap_1 = bootstrap_1.append(new_boot)\n",
    "\n",
    "len(bootstrap_1.index)"
   ]
  },
  {
   "cell_type": "code",
   "execution_count": 18,
   "metadata": {
    "cell_id": "00029-6d2e28e0-4804-49ad-a623-9d469a2f5feb",
    "deepnote_cell_type": "code",
    "deepnote_output_heights": [
     21.1875
    ],
    "deepnote_to_be_reexecuted": false,
    "execution_millis": 8,
    "execution_start": 1646077461962,
    "source_hash": "20cf3fc3",
    "tags": []
   },
   "outputs": [
    {
     "data": {
      "text/plain": [
       "8088"
      ]
     },
     "execution_count": 18,
     "metadata": {},
     "output_type": "execute_result"
    }
   ],
   "source": [
    "# FINAL bootstrapped dataset, both class sizes should be roughly equal\n",
    "final_patient_data = initial_boot.append(bootstrap_1)\n",
    "len(final_patient_data)"
   ]
  },
  {
   "cell_type": "markdown",
   "metadata": {
    "cell_id": "00018-54a31d0e-008e-41c8-83be-cd1455832f40",
    "deepnote_cell_type": "text-cell-h1",
    "is_collapsed": false,
    "tags": []
   },
   "source": [
    "# Random Forest"
   ]
  },
  {
   "cell_type": "markdown",
   "metadata": {
    "cell_id": "00031-ae1d0959-dbf2-4a85-a4c0-80b5d2610781",
    "deepnote_cell_type": "text-cell-p",
    "is_collapsed": false,
    "tags": []
   },
   "source": [
    "For random forest, standardization does not matter and weighing does not matter either ; just throw in every possible feature because the random forest will weed out the ones that don't matter"
   ]
  },
  {
   "cell_type": "code",
   "execution_count": 19,
   "metadata": {
    "cell_id": "00025-a4b12875-8aa0-488a-9a95-1ffdfa8c0d58",
    "deepnote_cell_type": "code",
    "deepnote_output_heights": [
     193.96875
    ],
    "deepnote_to_be_reexecuted": false,
    "execution_millis": 3,
    "execution_start": 1646077461970,
    "source_hash": "385b90ae",
    "tags": []
   },
   "outputs": [],
   "source": [
    "forest_factors = [\"age\", \"hypertension\", \"heart_disease\", \"avg_glucose_level\", \"bmi\", \"gender_Male\", \"ever_married_Yes\", \"work_type_Self-employed\", \"Residence_type_Rural\", \"smoking_status_never smoked\"]"
   ]
  },
  {
   "cell_type": "code",
   "execution_count": 20,
   "metadata": {
    "cell_id": "00029-45b29eb9-7e8a-499a-8771-68a9398f7f53",
    "deepnote_cell_type": "code",
    "deepnote_to_be_reexecuted": false,
    "execution_millis": 8,
    "execution_start": 1646077461976,
    "source_hash": "7016aab5",
    "tags": []
   },
   "outputs": [],
   "source": [
    "# ensures that we have an unaltered table\n",
    "\n",
    "patient_train, patient_validation = train_test_split(final_patient_data, \n",
    "                                             test_size = .25, \n",
    "                                             random_state = 0)\n"
   ]
  },
  {
   "cell_type": "code",
   "execution_count": 21,
   "metadata": {
    "cell_id": "00029-1a30f444-a419-49cc-ad70-d4b8ceea0f93",
    "deepnote_cell_type": "code",
    "deepnote_output_heights": [
     21.1875
    ],
    "deepnote_to_be_reexecuted": false,
    "execution_millis": 9,
    "execution_start": 1646077461991,
    "source_hash": "c11a5e46",
    "tags": []
   },
   "outputs": [
    {
     "name": "stderr",
     "output_type": "stream",
     "text": [
      "/var/folders/gh/k7rgm7qs3zl2lw8bn_ydlg_40000gq/T/ipykernel_48410/1770486400.py:3: SettingWithCopyWarning: \n",
      "A value is trying to be set on a copy of a slice from a DataFrame.\n",
      "Try using .loc[row_indexer,col_indexer] = value instead\n",
      "\n",
      "See the caveats in the documentation: https://pandas.pydata.org/pandas-docs/stable/user_guide/indexing.html#returning-a-view-versus-a-copy\n",
      "  patient_train[column] = standardize(patient_train[column])\n",
      "/var/folders/gh/k7rgm7qs3zl2lw8bn_ydlg_40000gq/T/ipykernel_48410/1770486400.py:4: SettingWithCopyWarning: \n",
      "A value is trying to be set on a copy of a slice from a DataFrame.\n",
      "Try using .loc[row_indexer,col_indexer] = value instead\n",
      "\n",
      "See the caveats in the documentation: https://pandas.pydata.org/pandas-docs/stable/user_guide/indexing.html#returning-a-view-versus-a-copy\n",
      "  patient_validation[column] = standardize(patient_validation[column])\n"
     ]
    }
   ],
   "source": [
    "# JOE: I'll play around with weighting here\n",
    "for column in factors_to_standardize:\n",
    "    patient_train[column] = standardize(patient_train[column])\n",
    "    patient_validation[column] = standardize(patient_validation[column])"
   ]
  },
  {
   "cell_type": "code",
   "execution_count": 22,
   "metadata": {
    "cell_id": "00020-fdb8792e-8e83-4621-a3d6-5f228dc177d6",
    "deepnote_cell_type": "code",
    "deepnote_output_heights": [
     607
    ],
    "deepnote_to_be_reexecuted": false,
    "execution_millis": 6134,
    "execution_start": 1646077462006,
    "source_hash": "bdb6d5fb",
    "tags": []
   },
   "outputs": [
    {
     "data": {
      "text/plain": [
       "1.0"
      ]
     },
     "execution_count": 22,
     "metadata": {},
     "output_type": "execute_result"
    }
   ],
   "source": [
    "from sklearn.ensemble import RandomForestClassifier\n",
    "\n",
    "model = RandomForestClassifier(n_estimators = 736,\n",
    "    min_samples_split = 2,\n",
    "    min_samples_leaf = 1,\n",
    "    max_features = 'sqrt',\n",
    "    max_depth = None,\n",
    "    bootstrap = False)\n",
    "\n",
    "# now, I'm going to clean the data. We remove all irrelevant columns\n",
    "patient_train_y = patient_train[\"stroke\"]\n",
    "#patient_train_x = patient_train[forest_factors]\n",
    "patient_train_x = patient_train.drop([\"stroke\", \"gender_Other\"], axis=1)\n",
    "\n",
    "model.fit(patient_train_x, patient_train_y)\n",
    "forest_predictions = model.predict(patient_train_x)\n",
    "\n",
    "# this shows the accuracy of the random forest\n",
    "(forest_predictions == patient_train_y).sum() / patient_train_y.shape[0]    "
   ]
  },
  {
   "cell_type": "code",
   "execution_count": 23,
   "metadata": {
    "cell_id": "00008-c86b1c22-3701-4559-912c-eccde10249e7",
    "deepnote_cell_type": "code",
    "deepnote_output_heights": [
     21.1875
    ],
    "deepnote_to_be_reexecuted": false,
    "execution_millis": 380,
    "execution_start": 1646077468162,
    "is_output_hidden": false,
    "source_hash": "bf22f873",
    "tags": []
   },
   "outputs": [
    {
     "data": {
      "text/plain": [
       "0.990108803165183"
      ]
     },
     "execution_count": 23,
     "metadata": {},
     "output_type": "execute_result"
    }
   ],
   "source": [
    "#Measure the performance of your model on the validation set and report the error by printing out the loss.\n",
    "patient_validation_y = patient_validation[\"stroke\"]\n",
    "#patient_validation_x = patient_validation[forest_factors]\n",
    "patient_validation_x = patient_validation.drop([\"stroke\", \"gender_Other\"], axis=1)\n",
    "validation_forest_predictions = model.predict(patient_validation_x)\n",
    "(validation_forest_predictions == patient_validation_y).sum() / patient_validation_y.shape[0]\n"
   ]
  },
  {
   "cell_type": "markdown",
   "metadata": {
    "cell_id": "00042-eb8fce18-7908-4538-9a77-8bb85c1432b4",
    "deepnote_cell_type": "text-cell-h2",
    "is_collapsed": false,
    "tags": []
   },
   "source": [
    "## Hyperparameter tuning"
   ]
  },
  {
   "cell_type": "code",
   "execution_count": 24,
   "metadata": {
    "cell_id": "00043-02021f77-a25a-4dfd-a357-0960edfaf632",
    "deepnote_cell_type": "code",
    "deepnote_to_be_reexecuted": false,
    "execution_millis": 1,
    "execution_start": 1646077468562,
    "source_hash": "b4affa2e",
    "tags": []
   },
   "outputs": [],
   "source": [
    "# this is parameter tuning\n",
    "\n",
    "from sklearn.model_selection import RandomizedSearchCV\n",
    "from sklearn.ensemble import RandomForestRegressor\n",
    "\n",
    "# Number of trees in random forest\n",
    "n_estimators = [736, 737] \n",
    "\n",
    "# Number of features to consider at every split\n",
    "max_features = ['sqrt']\n",
    "\n",
    "# Maximum number of levels in tree\n",
    "max_depth = [None]\n",
    "\n",
    "# Minimum number of samples required to split a node\n",
    "min_samples_split = [2]\n",
    "\n",
    "# Minimum number of samples required at each leaf node\n",
    "min_samples_leaf = [1]\n",
    "\n",
    "# Method of selecting samples for training each tree\n",
    "bootstrap = [False]\n",
    "\n",
    "# Create the random grid\n",
    "random_grid = {'n_estimators': n_estimators,\n",
    "               'max_features': max_features,\n",
    "               'max_depth': max_depth,\n",
    "               'min_samples_split': min_samples_split,\n",
    "               'min_samples_leaf': min_samples_leaf,\n",
    "               'bootstrap': bootstrap}"
   ]
  },
  {
   "cell_type": "code",
   "execution_count": 25,
   "metadata": {
    "cell_id": "00044-5cccd333-0677-4c31-b556-8c1f1d242092",
    "deepnote_cell_type": "code",
    "deepnote_output_heights": [
     null,
     117.1875
    ],
    "deepnote_to_be_reexecuted": false,
    "execution_millis": 18366,
    "execution_start": 1646077468566,
    "source_hash": "f964c6ce",
    "tags": []
   },
   "outputs": [
    {
     "name": "stdout",
     "output_type": "stream",
     "text": [
      "Fitting 3 folds for each of 2 candidates, totalling 6 fits\n"
     ]
    },
    {
     "name": "stderr",
     "output_type": "stream",
     "text": [
      "/Users/joez/opt/anaconda3/lib/python3.9/site-packages/sklearn/model_selection/_search.py:285: UserWarning: The total space of parameters 2 is smaller than n_iter=10. Running 2 iterations. For exhaustive searches, use GridSearchCV.\n",
      "  warnings.warn(\n"
     ]
    },
    {
     "data": {
      "text/plain": [
       "{'n_estimators': 736,\n",
       " 'min_samples_split': 2,\n",
       " 'min_samples_leaf': 1,\n",
       " 'max_features': 'sqrt',\n",
       " 'max_depth': None,\n",
       " 'bootstrap': False}"
      ]
     },
     "execution_count": 25,
     "metadata": {},
     "output_type": "execute_result"
    }
   ],
   "source": [
    "rf = RandomForestRegressor()\n",
    "\n",
    "hypertuning_obj = RandomizedSearchCV(estimator = rf, param_distributions = random_grid, n_iter = 10, cv = 3, verbose=2, random_state=42, n_jobs = -1)\n",
    "\n",
    "hypertuning_obj.fit(patient_train_x, patient_train_y)\n",
    "\n",
    "hypertuning_obj.best_params_"
   ]
  },
  {
   "cell_type": "markdown",
   "metadata": {
    "cell_id": "00047-60c85515-9bd4-46ae-8399-0b9aaec75c41",
    "deepnote_cell_type": "text-cell-p",
    "is_collapsed": false,
    "tags": []
   },
   "source": [
    "The best parameters for our random forest are: "
   ]
  },
  {
   "cell_type": "markdown",
   "metadata": {
    "cell_id": "00048-22820311-9f44-43a3-a0f4-6de9c531eecb",
    "deepnote_cell_type": "text-cell-p",
    "is_collapsed": false,
    "tags": []
   },
   "source": [
    "{'n_estimators': 736, 'min_samples_split': 2,\n",
    " 'min_samples_leaf': 1,\n",
    " 'max_features': 'sqrt',\n",
    " 'max_depth': None,\n",
    " 'bootstrap': False}"
   ]
  },
  {
   "cell_type": "markdown",
   "metadata": {
    "cell_id": "00026-1b3d4090-bb37-43ea-8fda-71e0c2cf2121",
    "deepnote_cell_type": "text-cell-h1",
    "is_collapsed": false,
    "tags": []
   },
   "source": [
    "# Submission"
   ]
  },
  {
   "cell_type": "code",
   "execution_count": 26,
   "metadata": {
    "cell_id": "00009-1d15a914-802f-4376-9e40-8c184555c847",
    "deepnote_cell_type": "code",
    "deepnote_output_heights": [
     21.1875
    ],
    "deepnote_to_be_reexecuted": true,
    "execution_millis": 199,
    "execution_start": 1638604101236,
    "source_hash": "74bb5a54",
    "tags": []
   },
   "outputs": [],
   "source": [
    "#Predict test data labels using your model here. \n",
    "#Your output should be of length 1022\n",
    "\n",
    "test_data = pd.read_csv('test_data.csv')\n",
    "clean_test_data = replace_nan(test)\n",
    "\n",
    "preds_for_submission = model.predict(clean_test_data)"
   ]
  },
  {
   "cell_type": "code",
   "execution_count": 27,
   "metadata": {
    "cell_id": "00010-ede4e76f-0ff7-4dbd-8a66-58ce91f1e7cf",
    "deepnote_cell_type": "code",
    "deepnote_to_be_reexecuted": true,
    "execution_millis": 14,
    "execution_start": 1638595112821,
    "source_hash": "d99fe6d8",
    "tags": []
   },
   "outputs": [],
   "source": [
    "#change the stroke column of submission variable I definied above to your test predictions.\n",
    "\n",
    "submission[\"stroke\"] = preds_for_submission"
   ]
  },
  {
   "cell_type": "code",
   "execution_count": 28,
   "metadata": {
    "cell_id": "00011-969933de-002d-46de-b278-a222a69be2a8",
    "deepnote_cell_type": "code",
    "deepnote_to_be_reexecuted": true,
    "execution_millis": 0,
    "execution_start": 1638589727281,
    "source_hash": "df055924",
    "tags": []
   },
   "outputs": [],
   "source": [
    "#Saving the csv file\n",
    "#You can download this file by going to the output folder on the right side of your screen. \n",
    "# The csv is in /kaggle/working\n",
    "submission.to_csv('submission.csv', index=False)"
   ]
  }
 ],
 "metadata": {
  "deepnote": {
   "is_reactive": false
  },
  "deepnote_execution_queue": [],
  "deepnote_notebook_id": "f3d60ed8-818b-4097-950d-38da831c5f11",
  "kernelspec": {
   "display_name": "Python 3 (ipykernel)",
   "language": "python",
   "name": "python3"
  },
  "language_info": {
   "codemirror_mode": {
    "name": "ipython",
    "version": 3
   },
   "file_extension": ".py",
   "mimetype": "text/x-python",
   "name": "python",
   "nbconvert_exporter": "python",
   "pygments_lexer": "ipython3",
   "version": "3.9.7"
  }
 },
 "nbformat": 4,
 "nbformat_minor": 2
}
